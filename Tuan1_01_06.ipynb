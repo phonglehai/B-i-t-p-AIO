{
  "nbformat": 4,
  "nbformat_minor": 0,
  "metadata": {
    "colab": {
      "provenance": []
    },
    "kernelspec": {
      "name": "python3",
      "display_name": "Python 3"
    },
    "language_info": {
      "name": "python"
    }
  },
  "cells": [
    {
      "cell_type": "markdown",
      "source": [
        "# Bài 1\n"
      ],
      "metadata": {
        "id": "e8CYyDjZNyZV"
      }
    },
    {
      "cell_type": "code",
      "source": [
        "def exercise1(tp,fp,fn):\n",
        "  if type(tp) is not int :\n",
        "    print(\"tp must be int\")\n",
        "    return\n",
        "  if type(fp) is not int :\n",
        "    print(\"fp must be int\")\n",
        "    return\n",
        "\n",
        "  if type(fn) is not int :\n",
        "    print(\"fn must be int\")\n",
        "    return\n",
        "\n",
        "  if tp==0 or fp==0 or fn ==0:\n",
        "    print(\"tp and fp and fn must be greater than zero\")\n",
        "    return\n",
        "  print(\"precision is\",tp/(tp+fp))\n",
        "  print(\"recall is\",tp/(tp+fn))\n",
        "  pre=tp/(tp+fp)\n",
        "  recall=tp/(tp+fn)\n",
        "  print(\"f1-score\",2*pre*recall/(pre+recall))\n"
      ],
      "metadata": {
        "id": "VsJbetRRN1aU"
      },
      "execution_count": null,
      "outputs": []
    },
    {
      "cell_type": "code",
      "source": [
        "exercise1 ( tp =2 , fp =3 , fn =4)"
      ],
      "metadata": {
        "colab": {
          "base_uri": "https://localhost:8080/"
        },
        "id": "OqZvmni0Oea0",
        "outputId": "8607c61e-a838-4351-fadf-7ea0b19a4493"
      },
      "execution_count": null,
      "outputs": [
        {
          "output_type": "stream",
          "name": "stdout",
          "text": [
            "precision is 0.4\n",
            "recall is 0.3333333333333333\n",
            "f1-score 0.3636363636363636\n"
          ]
        }
      ]
    },
    {
      "cell_type": "code",
      "source": [
        "exercise1 ( tp =2 , fp =3 , fn =0)"
      ],
      "metadata": {
        "id": "rXc1CS2IOfYv",
        "colab": {
          "base_uri": "https://localhost:8080/"
        },
        "outputId": "bedc81b1-e701-4112-b491-15f11b4292a8"
      },
      "execution_count": null,
      "outputs": [
        {
          "output_type": "stream",
          "name": "stdout",
          "text": [
            "tp and fp and fn must be greater than zero\n"
          ]
        }
      ]
    },
    {
      "cell_type": "markdown",
      "source": [
        "# Bài 2"
      ],
      "metadata": {
        "id": "pT-JtlYaqawO"
      }
    },
    {
      "cell_type": "code",
      "source": [
        "import math\n",
        "def is_number(x):\n",
        "  try:\n",
        "    float(x)\n",
        "  except ValueError:\n",
        "    return False\n",
        "  return True\n",
        "def exercise2(n,x):\n",
        "  if  is_number(x) is False:\n",
        "    print(\"x must be a number\")\n",
        "    return\n",
        "  x=float(x)\n",
        "  b=['sigmoid','relu','elu']\n",
        "  if n not in b:\n",
        "    print(n,\"is not supposted\")\n",
        "    return\n",
        "  if n==\"sigmoid\":\n",
        "    print(f\"sigmoid: f({x})=\",1/(math.e**(-x)+1))\n",
        "    return\n",
        "  if n==\"relu\":\n",
        "    if x<=0:\n",
        "      print(f\"relu: f({x})=\",0)\n",
        "      return\n",
        "    if x>0:\n",
        "      print(f\"relu: f({x})=\",x)\n",
        "      return\n",
        "  if n=='elu':\n",
        "    anpha=0.1\n",
        "    if x <= 0:\n",
        "      print(f\"elu:f({x})=\",anpha*(math.e^x-1))\n",
        "      return\n",
        "    if x>0:\n",
        "      print(f\"elu:f({x})=\",x)\n",
        "      return\n",
        "\n",
        "\n",
        "\n"
      ],
      "metadata": {
        "id": "UJa2kXfumuo_"
      },
      "execution_count": null,
      "outputs": []
    },
    {
      "cell_type": "code",
      "source": [
        "\n",
        "x=input(\"Nhap x la \")\n",
        "n=input(\"Sigmoid|relu|elu\")\n",
        "exercise2(n,x)"
      ],
      "metadata": {
        "colab": {
          "base_uri": "https://localhost:8080/"
        },
        "id": "hzKViRo9wG4a",
        "outputId": "5f206c1e-6357-4305-8db3-a67869fdd63c"
      },
      "execution_count": null,
      "outputs": [
        {
          "output_type": "stream",
          "name": "stdout",
          "text": [
            "Nhap x la 3\n",
            "Sigmoid|relu|elubeli\n",
            "beli is not supposted\n"
          ]
        }
      ]
    },
    {
      "cell_type": "markdown",
      "source": [
        "# Bài 3"
      ],
      "metadata": {
        "id": "AMujylRG2Bcf"
      }
    },
    {
      "cell_type": "code",
      "source": [
        "\"3\".isnumeric()"
      ],
      "metadata": {
        "colab": {
          "base_uri": "https://localhost:8080/"
        },
        "id": "yb3Kaw7WlYQU",
        "outputId": "e71fd2a7-8385-4d57-dc34-9c40dfa3ba22"
      },
      "execution_count": 13,
      "outputs": [
        {
          "output_type": "execute_result",
          "data": {
            "text/plain": [
              "True"
            ]
          },
          "metadata": {},
          "execution_count": 13
        }
      ]
    },
    {
      "cell_type": "code",
      "source": [
        "def mae(y_target,y_predict):\n",
        "  return abs(y_target-y_predict)\n",
        "def mse(y_target,y_predict):\n",
        "  return mae(y_target,y_predict)**2\n",
        "def loss(n_sample,loss_name):\n",
        "  sum_mae=0\n",
        "  sum_mse=0\n",
        "  sum_rmse=0\n",
        "  for i in range(n_sample):\n",
        "    y_target=random.uniform(0,10)\n",
        "    y_predict=random.uniform(0,10)\n",
        "    if loss_name==\"mae\":\n",
        "      sum_mae+=mae(y_target,y_predict)\n",
        "      sum_mae=sum_mae/n_sample\n",
        "      print (f\"loss_name:{loss_name}, sample:{i},target:{y_target},pre:{y_predict},loss:{sum_mae}\")\n",
        "\n",
        "    if loss_name==\"mse\":\n",
        "      sum_mse+=mse(y_target,y_predict)\n",
        "      sum_mse=sum_mse/n_sample\n",
        "      print (f\"loss_name:{loss_name}, sample:{i},target:{y_target},pre:{y_predict},loss:{sum_mse}\")\n",
        "\n",
        "    if loss_name==\"rmse\":\n",
        "      sum_mse+=mse(y_target,y_predict)\n",
        "      sum_mse=(sum_mse/n_sample)**(1/2)\n",
        "      print (f\"loss_name:{loss_name}, sample:{i},target:{y_target},pre:{y_predict},loss:{sum_mse}\")\n",
        "\n",
        "  return\n",
        "x=input(f\"nhap so sample\")\n",
        "name=input(f\"nhap loss_name\")\n",
        "if x.isnumeric():\n",
        "  x=int(x)\n",
        "  loss(x,name)\n",
        "else:\n",
        "  print(\"nhap lai\")\n"
      ],
      "metadata": {
        "id": "t5dluBd6tRYQ",
        "colab": {
          "base_uri": "https://localhost:8080/"
        },
        "outputId": "0c91070b-968e-4fd0-f253-e904f1a73274"
      },
      "execution_count": 15,
      "outputs": [
        {
          "output_type": "stream",
          "name": "stdout",
          "text": [
            "nhap so sample5\n",
            "nhap loss_namermse\n",
            "loss_name:rmse, sample:0,target:9.022257727051114,pre:7.801452038302749,loss:0.5459609014719591\n",
            "loss_name:rmse, sample:1,target:9.95993923729776,pre:3.411432100037717,loss:2.947164964104239\n",
            "loss_name:rmse, sample:2,target:5.942291304269014,pre:6.735634606743325,loss:0.8457610253121249\n",
            "loss_name:rmse, sample:3,target:5.107013500674858,pre:1.2440541700297358,loss:1.7758499832773227\n",
            "loss_name:rmse, sample:4,target:3.8007318154788825,pre:4.3566274610281805,loss:0.6457352324316823\n"
          ]
        }
      ]
    },
    {
      "cell_type": "markdown",
      "source": [
        "# Bài 4"
      ],
      "metadata": {
        "id": "G4YdrgUbVlMC"
      }
    },
    {
      "cell_type": "code",
      "source": [
        "def giaithua(n):\n",
        "  s=1\n",
        "  for i in range(1,n+1):\n",
        "    s=s*i\n",
        "  return s\n",
        "def sin(x,n):\n",
        "  s=x\n",
        "  for i in range(1,n+1):\n",
        "    # print(s)\n",
        "    s=s+((-1)**i)*(x**(2*i+1))/giaithua(2*i+1)\n",
        "    # print(s)\n",
        "  return s\n",
        "def cos(x,n):\n",
        "  co=1\n",
        "  for i in range(1,n+1):\n",
        "    co=co+((-1)**i)*(x**(2*i))/giaithua(2*i)\n",
        "  return co\n",
        "def sinh(x,n):\n",
        "  sin_h=x\n",
        "  for i in range(1,n+1):\n",
        "    sin_h=sin_h+(x**(2*i+1))/giaithua(2*i+1)\n",
        "  return sin_h\n",
        "def cosh(x,n):\n",
        "  cos_h=1\n",
        "  for i in range(1,n+1):\n",
        "    cos_h=cos_h+(x**(2*i))/giaithua(2*i)\n",
        "  return cos_h"
      ],
      "metadata": {
        "id": "PGoeoey9q2A_"
      },
      "execution_count": null,
      "outputs": []
    },
    {
      "cell_type": "code",
      "source": [
        "print(sin(3.14,10))\n",
        "print(cos(3.14,10))\n",
        "print(sinh(3.14,10))\n",
        "print(cosh(3.14,10))"
      ],
      "metadata": {
        "colab": {
          "base_uri": "https://localhost:8080/"
        },
        "id": "N0u6y1dJWr8K",
        "outputId": "90059027-4a9c-4bc3-ded5-998e79796a8a"
      },
      "execution_count": null,
      "outputs": [
        {
          "output_type": "stream",
          "name": "stdout",
          "text": [
            "0.0015926529267151343\n",
            "-0.9999987316527259\n",
            "11.53029203039954\n",
            "11.573574828234543\n"
          ]
        }
      ]
    },
    {
      "cell_type": "markdown",
      "source": [
        "# Bài 5"
      ],
      "metadata": {
        "id": "4jH9QApBqPDF"
      }
    },
    {
      "cell_type": "code",
      "source": [
        "def MD_rME(y,y_hat,n,p):\n",
        "  return (y**(1/n)-y_hat**(1/n))**p\n",
        "MD_rME(100,99.5,2,1)"
      ],
      "metadata": {
        "colab": {
          "base_uri": "https://localhost:8080/"
        },
        "id": "YQ_BljHzqS4s",
        "outputId": "0d89336c-9734-4dec-a525-497decf00b99"
      },
      "execution_count": 18,
      "outputs": [
        {
          "output_type": "execute_result",
          "data": {
            "text/plain": [
              "0.025031328369998107"
            ]
          },
          "metadata": {},
          "execution_count": 18
        }
      ]
    },
    {
      "cell_type": "code",
      "source": [],
      "metadata": {
        "id": "KI455oTMsXbW"
      },
      "execution_count": null,
      "outputs": []
    }
  ]
}