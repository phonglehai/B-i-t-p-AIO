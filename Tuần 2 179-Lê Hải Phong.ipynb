{
  "nbformat": 4,
  "nbformat_minor": 0,
  "metadata": {
    "colab": {
      "provenance": []
    },
    "kernelspec": {
      "name": "python3",
      "display_name": "Python 3"
    },
    "language_info": {
      "name": "python"
    }
  },
  "cells": [
    {
      "cell_type": "markdown",
      "source": [],
      "metadata": {
        "id": "IrCZ3OasiMGC"
      }
    },
    {
      "cell_type": "code",
      "source": [],
      "metadata": {
        "id": "LWlx-NZNxevT"
      },
      "execution_count": null,
      "outputs": []
    },
    {
      "cell_type": "markdown",
      "source": [
        "# Bài 1\n"
      ],
      "metadata": {
        "id": "WN5ZYbOqxdov"
      }
    },
    {
      "cell_type": "code",
      "execution_count": null,
      "metadata": {
        "colab": {
          "base_uri": "https://localhost:8080/"
        },
        "id": "2-fCKdGYgDB3",
        "outputId": "477045b6-9f60-4dfb-dbc0-ec8a0e9c9cab"
      },
      "outputs": [
        {
          "output_type": "execute_result",
          "data": {
            "text/plain": [
              "[5, 5, 5, 5, 10, 12, 33, 33]"
            ]
          },
          "metadata": {},
          "execution_count": 2
        }
      ],
      "source": [
        "def sli(a_list,k):\n",
        "  g=list()\n",
        "  for i in range(len(a_list)):\n",
        "    if i+k<=len(a_list):\n",
        "      g.append(max(a_list[i:i+k]))\n",
        "\n",
        "  return g\n",
        "sli([3, 4, 5, 1, -44 , 5 ,10, 12 ,33, 1],3)"
      ]
    },
    {
      "cell_type": "code",
      "source": [],
      "metadata": {
        "id": "Ij2x3CnPxmBn"
      },
      "execution_count": null,
      "outputs": []
    },
    {
      "cell_type": "markdown",
      "source": [
        "#Bài 2\n"
      ],
      "metadata": {
        "id": "FQsX8UAYxmwa"
      }
    },
    {
      "cell_type": "code",
      "source": [
        "def count(text,one_text):\n",
        "  count_text=0\n",
        "  for i in range(len(text)):\n",
        "    if one_text==text[i]:\n",
        "      count_text+=1\n",
        "  return count_text\n",
        "def count_string(text_char):\n",
        "  g=list()\n",
        "  dict_text=dict()\n",
        "  for i in text_char:\n",
        "    if i in text_char and i not in g and i != ' ':\n",
        "      g.append(i)\n",
        "  for j in g:\n",
        "    dem=count(text_char,j)\n",
        "    dict_text[j]=dem\n",
        "  return dict_text\n",
        "count_string('Happiness')\n"
      ],
      "metadata": {
        "colab": {
          "base_uri": "https://localhost:8080/"
        },
        "id": "4knIM0k6hroZ",
        "outputId": "9566a9d9-2a19-4580-e234-849172952079"
      },
      "execution_count": null,
      "outputs": [
        {
          "output_type": "execute_result",
          "data": {
            "text/plain": [
              "{'H': 1, 'a': 1, 'p': 2, 'i': 1, 'n': 1, 'e': 1, 's': 2}"
            ]
          },
          "metadata": {},
          "execution_count": 5
        }
      ]
    },
    {
      "cell_type": "code",
      "source": [
        "!gdown https://drive.google.com/uc?id=1IBScGdW2xlNsc9v5zSAya548kNgiOrko"
      ],
      "metadata": {
        "colab": {
          "base_uri": "https://localhost:8080/"
        },
        "id": "y3MGvr45jr_A",
        "outputId": "74f072a1-5b06-486b-aa0b-d8ae5311f4a1"
      },
      "execution_count": null,
      "outputs": [
        {
          "output_type": "stream",
          "name": "stdout",
          "text": [
            "Downloading...\n",
            "From: https://drive.google.com/uc?id=1IBScGdW2xlNsc9v5zSAya548kNgiOrko\n",
            "To: /content/P1_data.txt\n",
            "\r  0% 0.00/747 [00:00<?, ?B/s]\r100% 747/747 [00:00<00:00, 3.11MB/s]\n"
          ]
        }
      ]
    },
    {
      "cell_type": "code",
      "source": [
        "with open('/content/P1_data.txt','r') as f:\n",
        "  text=f.read()"
      ],
      "metadata": {
        "id": "urZmoEYLkNXP"
      },
      "execution_count": null,
      "outputs": []
    },
    {
      "cell_type": "markdown",
      "source": [
        "# Bài 3\n"
      ],
      "metadata": {
        "id": "BTKFPYEwxiDk"
      }
    },
    {
      "cell_type": "code",
      "source": [
        "def texxt(text_name):\n",
        "  h=list()\n",
        "  b=list(text_name.split('\\n'))\n",
        "  for i in b:\n",
        "    c=list(i.split(' '))\n",
        "    h=h+c\n",
        "  return h\n",
        "def count(text,one_text):\n",
        "  count_text=0\n",
        "  for i in range(len(text)):\n",
        "    if one_text==text[i]:\n",
        "      count_text+=1\n",
        "  return count_text\n",
        "def count_text(text_char):\n",
        "  text_c=texxt(text_char)\n",
        "  g=list()\n",
        "  for i in text_c:\n",
        "    if i not in g and i != ' ':\n",
        "      g.append(i)\n",
        "  dict_text=dict()\n",
        "  for j in g:\n",
        "    dem=count(text_c,j)\n",
        "    dict_text[j]=dem\n",
        "  return dict_text\n",
        "count_text(text)"
      ],
      "metadata": {
        "colab": {
          "base_uri": "https://localhost:8080/"
        },
        "id": "m_KGWTHrkq_n",
        "outputId": "feba5d22-3043-4b03-a7b5-a78a699c7671"
      },
      "execution_count": null,
      "outputs": [
        {
          "output_type": "execute_result",
          "data": {
            "text/plain": [
              "{'He': 1,\n",
              " 'who': 3,\n",
              " 'conquers': 1,\n",
              " 'himself': 1,\n",
              " 'is': 3,\n",
              " 'the': 4,\n",
              " 'mightiest': 1,\n",
              " 'warrior': 1,\n",
              " 'Try': 1,\n",
              " 'not': 1,\n",
              " 'to': 3,\n",
              " 'become': 2,\n",
              " 'a': 6,\n",
              " 'man': 6,\n",
              " 'of': 4,\n",
              " 'success': 2,\n",
              " 'but': 1,\n",
              " 'rather': 1,\n",
              " 'value': 1,\n",
              " 'One': 2,\n",
              " 'with': 4,\n",
              " 'courage': 1,\n",
              " 'makes': 1,\n",
              " 'majority': 1,\n",
              " 'secret': 1,\n",
              " 'in': 4,\n",
              " 'life': 2,\n",
              " 'for': 3,\n",
              " 'be': 1,\n",
              " 'ready': 1,\n",
              " 'his': 2,\n",
              " 'opportunity': 1,\n",
              " 'when': 2,\n",
              " 'it': 2,\n",
              " 'comes': 2,\n",
              " 'The': 1,\n",
              " 'successful': 2,\n",
              " 'will': 2,\n",
              " 'profit': 1,\n",
              " 'from': 1,\n",
              " 'mistakes': 1,\n",
              " 'and': 1,\n",
              " 'try': 1,\n",
              " 'again': 1,\n",
              " 'different': 1,\n",
              " 'way': 1,\n",
              " 'A': 1,\n",
              " 'one': 2,\n",
              " 'can': 3,\n",
              " 'lay': 1,\n",
              " 'firm': 1,\n",
              " 'foundation': 1,\n",
              " 'bricks': 1,\n",
              " 'others': 1,\n",
              " 'have': 1,\n",
              " 'thrown': 1,\n",
              " 'at': 1,\n",
              " 'him': 1,\n",
              " 'Success': 1,\n",
              " 'usually': 1,\n",
              " 'those': 1,\n",
              " 'are': 1,\n",
              " 'too': 1,\n",
              " 'busy': 1,\n",
              " 'looking': 1,\n",
              " 'We': 1,\n",
              " 'cannot': 1,\n",
              " 'solve': 1,\n",
              " 'problems': 1,\n",
              " 'kind': 1,\n",
              " 'thinking': 1,\n",
              " 'we': 2,\n",
              " 'employed': 1,\n",
              " 'came': 1,\n",
              " 'up': 1,\n",
              " 'them': 1,\n",
              " 'Just': 1,\n",
              " 'small': 1,\n",
              " 'positive': 1,\n",
              " 'thought': 1,\n",
              " 'morning': 1,\n",
              " 'change': 1,\n",
              " 'your': 1,\n",
              " 'whole': 1,\n",
              " 'day': 1,\n",
              " 'You': 1,\n",
              " 'get': 2,\n",
              " 'everything': 1,\n",
              " 'you': 2,\n",
              " 'want': 2,\n",
              " 'if': 1,\n",
              " 'just': 1,\n",
              " 'help': 1,\n",
              " 'enough': 1,\n",
              " 'other': 1,\n",
              " 'people': 1,\n",
              " 'what': 1,\n",
              " 'they': 1}"
            ]
          },
          "metadata": {},
          "execution_count": 17
        }
      ]
    },
    {
      "cell_type": "code",
      "source": [],
      "metadata": {
        "id": "WB9fy1d3lBfP"
      },
      "execution_count": null,
      "outputs": []
    },
    {
      "cell_type": "code",
      "source": [],
      "metadata": {
        "id": "rz83gRcLlCCW"
      },
      "execution_count": null,
      "outputs": []
    }
  ]
}